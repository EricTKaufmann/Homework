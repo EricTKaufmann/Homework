{
 "cells": [
  {
   "attachments": {},
   "cell_type": "markdown",
   "metadata": {},
   "source": [
    "Section 7.1"
   ]
  },
  {
   "attachments": {},
   "cell_type": "markdown",
   "metadata": {},
   "source": [
    "1. \n",
    "\n",
    "''' SQL\n",
    "SELECT ModelYear, Make, Model\n",
    "FROM evregistry;\n",
    "\n",
    "'''\n",
    "\n",
    "2.\n",
    "\n",
    "'''SQL\n",
    "\n",
    "SELECT DISTINCT ElectricVehicleType\n",
    "FROM evregistry;\n",
    "\n",
    "'''\n",
    "\n",
    "3.\n",
    "\n",
    "'''SQL \n",
    "\n",
    "SELECT *\n",
    "FROM evregistry\n",
    "WHERE ElectricVehicleType = \"Battery Electric Vehicle (BEV)\";\n",
    "\n",
    "'''\n",
    "\n",
    "4.\n",
    "\n",
    "'''SQL\n",
    "\n",
    "SELECT Make, Model\n",
    "FROM evregistry\n",
    "WHERE BaseMSRP BETWEEN 20000 AND 35000;\n",
    "\n",
    "'''\n",
    "\n",
    "\n",
    "\n"
   ]
  },
  {
   "attachments": {},
   "cell_type": "markdown",
   "metadata": {},
   "source": [
    "Section 7.2"
   ]
  },
  {
   "attachments": {},
   "cell_type": "markdown",
   "metadata": {},
   "source": [
    "1.\n",
    "\n",
    "'''SQL\n",
    "\n",
    "SELECT *\n",
    "FROM evregistry\n",
    "WHERE City IS NULL;\n",
    "\n",
    "'''\n",
    "\n",
    "2. \n",
    "\n",
    "'''SQL\n",
    "\n",
    "SELECT Make, Model, ElectricVehicleType\n",
    "FROM evregistry\n",
    "WHERE VIN LIKE '%3E1EA1J';\n",
    "\n",
    "'''\n",
    "\n",
    "3.\n",
    "\n",
    "'''SQL\n",
    "\n",
    "SELECT ModelYear,Make,Model,ElectricVehicleType,ElectricRange\n",
    "FROM evregistry\n",
    "WHERE Make IN ('Tesla', 'Chevrolet')\n",
    "ORDER BY Make, ModelYear DESC;\n",
    "\n",
    "'''\n",
    "\n",
    "4.\n",
    "\n",
    "'''SQL\n",
    "\n",
    "SELECT StationID, COUNT(StationID) AS NumOfUses\n",
    "FROM evcharging\n",
    "GROUP BY StationID\n",
    "ORDER BY NumOfUses DESC\n",
    "LIMIT 5;\n",
    "\n",
    "'''\n",
    "\n",
    "5.\n",
    "\n",
    "'''SQL\n",
    "\n",
    "SELECT userid, MIN(chargeTimeMins) AS minTime, MAX(chargeTimeMins) AS maxTime\n",
    "FROM evcharging\n",
    "WHERE chargeTimeMins > 3600\n",
    "GROUP BY userid\n",
    "ORDER BY maxTime DESC, minTime DESC;\n",
    "\n",
    "'''\n",
    "\n",
    "\n",
    "\n",
    "\n",
    "\n",
    "\n"
   ]
  },
  {
   "attachments": {},
   "cell_type": "markdown",
   "metadata": {},
   "source": [
    "Section 7.3"
   ]
  },
  {
   "attachments": {},
   "cell_type": "markdown",
   "metadata": {},
   "source": [
    "1.\n",
    "\n",
    "SELECT weekday, ROUND(AVG(chargeTimeHrs), 2) AS average_charging_time\n",
    "FROM evcharging\n",
    "GROUP BY weekday\n",
    "ORDER BY average_charging_time DESC"
   ]
  },
  {
   "attachments": {},
   "cell_type": "markdown",
   "metadata": {},
   "source": [
    "2. \n",
    "\n",
    "SELECT userId,\n",
    "       ROUND(SUM(kwhTotal), 2) AS totalPower\n",
    "FROM evcharging\n",
    "GROUP BY userId\n",
    "ORDER BY totalPower DESC\n",
    "LIMIT 15;\n",
    "\n"
   ]
  },
  {
   "attachments": {},
   "cell_type": "markdown",
   "metadata": {},
   "source": [
    "3.\n",
    "\n",
    "SELECT df.typeFacility, count(Distinct fc.stationID) as num_stations\n",
    "\n",
    "FROM factcharge fc\n",
    "INNER JOIN dimFacility df\n",
    "ON fc.facilityID = df.FacilityKey\n",
    "GROUP BY 1\n",
    "ORDER BY 2 DESC;"
   ]
  },
  {
   "attachments": {},
   "cell_type": "markdown",
   "metadata": {},
   "source": [
    "4.\n",
    "\n",
    "Primay Key\n",
    "\n",
    " A primary key is like a special identification code for each record in a database table. It ensures that each record has a unique identity and helps in organizing and retrieving data efficiently.\n",
    "\n",
    "Foregin Key\n",
    "\n",
    "A foreign key acts as a connection between tables, similar to a bridge linking related data. It enables the establishment of relationships by referencing a primary key in another table, ensuring data integrity and enabling efficient retrieval of associated information."
   ]
  },
  {
   "attachments": {},
   "cell_type": "markdown",
   "metadata": {},
   "source": [
    "5. \n",
    "\n",
    "SELECT userid, MIN(chargeTimeMins) AS minTime, MAX(chargeTimeMins) AS maxTime\n",
    "FROM EVCharging\n",
    "GROUP BY userid\n",
    "HAVING maxTime > 60\n",
    "ORDER BY minTime, maxTime;\n",
    "\n"
   ]
  }
 ],
 "metadata": {
  "language_info": {
   "name": "python"
  },
  "orig_nbformat": 4
 },
 "nbformat": 4,
 "nbformat_minor": 2
}

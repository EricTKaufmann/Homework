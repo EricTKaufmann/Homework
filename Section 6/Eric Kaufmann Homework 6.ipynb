{
 "cells": [
  {
   "cell_type": "code",
   "execution_count": null,
   "metadata": {},
   "outputs": [],
   "source": [
    "1. Create a definitive problem statement to be solved with data \n",
    "analytics. \n",
    "\n",
    "Does higher healhcare spending to better patient outcomes?\n",
    "- Does higher health spenfing lead to higher life expectancy.\n",
    "- In countries with higher spending, are mortality rates lower/\n",
    "- Does higher spending lead to lower cronic illness.\n",
    "\n",
    "Context: This project aims to analyze the relationship between healtcare spending and patient o\n",
    "         outcomes over time. \n",
    "\n",
    "\n",
    "The problem statement above will by addressed by looking at total haelthcare spending by country. \n",
    "Patient outcomes will then be compared by country healthcare spending.\n",
    "\n"
   ]
  },
  {
   "attachments": {},
   "cell_type": "markdown",
   "metadata": {},
   "source": [
    "2. Datasets\n",
    "\n",
    "A. Global Health Spending (Over time)\n",
    " \n",
    " Kaggle dataset\n",
    "\n",
    "Global Health and Spending Over Time Kaggle.xlsx\n",
    "https://www.kaggle.com/datasets/thedevastator/global-health-spending\n",
    "\n",
    "Primary data set.\n",
    "\n",
    "This dataset is a collection of health spending aroubd the world. The data was collected from a variety of sources. The dataset includes data on health spending as a percentage of GDP, health spending per capita, and health spending by category.\n",
    "\n",
    "\n",
    "B. Health and Nutrition Population Statistics. \n",
    "\n",
    "Kaggle dataset.\n",
    "\n",
    "kaggle_health_and _nutrition.xlsx\n",
    "https://www.kaggle.com/datasets/theworldbank/health-nutrition-and-population-statistics\n",
    "\n",
    "This datset includes data on healh financing, infectious diseases, and average lifespan.\n",
    "\n",
    "\n",
    "3. Describe your plan on how to use this data to answer your problem \n",
    "statement.\n",
    "\n",
    "\n",
    "A. I will clean and and preprocess the datasets. Then I will merge the datasets by country and year. \n",
    "Exploarity data analysis will then trends and patterns.\n",
    "\n",
    "B. Statictical analysis will then be conducted. \n",
    "\n",
    "C. The results will be interpedetd. Results will be based on findings. My findings will presented with Tableau.\n",
    "\n",
    "\n",
    "\n",
    "\n",
    "\n",
    "\n",
    "\n",
    "\n",
    "\n",
    "\n",
    "\n",
    "\n"
   ]
  }
 ],
 "metadata": {
  "language_info": {
   "name": "python"
  },
  "orig_nbformat": 4
 },
 "nbformat": 4,
 "nbformat_minor": 2
}

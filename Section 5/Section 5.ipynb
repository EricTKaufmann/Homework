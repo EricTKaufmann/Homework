{
 "cells": [
  {
   "cell_type": "code",
   "execution_count": null,
   "metadata": {},
   "outputs": [],
   "source": [
    "1. What does Pandas stand for?\n",
    "   The name Pandas stands for is \"Panel Data\".\n",
    "\n",
    "2. What are the 2 collections used in Pandas?\n",
    "   Two collections used in Pandas are dataframes and series.\n",
    "\n",
    "3. Name 4 things Pandas can do for us.\n",
    "   Four things Pandas can do for us are dta clensing, data normalization, data visualization, \n",
    "   and data inspection.\n",
    "\n",
    "4. To permanently sort a DataFrame, which keyword should one use with the `df.sort()` method?\n",
    "   The keyword that should be used is 'inplace' An example of this would be the following :\n",
    " \n",
    "   df.sort_values(by = ['ColumnName', inplace=True])\n",
    "\n",
    "5. What is a CSV.\n",
    "   A CSV stands for Comma Separated Value. This can be used to store tabular data such as \n",
    "   spreadsheets ot databases.\n",
    "\n",
    "6. When cleaning data what values do we not like in our data?\n",
    "   Values we do not want in our data include missing values, duplicate values, and incorrect values.\n"
   ]
  },
  {
   "cell_type": "code",
   "execution_count": 5,
   "metadata": {},
   "outputs": [
    {
     "name": "stdout",
     "output_type": "stream",
     "text": [
      "[[[ 0  1]\n",
      "  [ 2  3]\n",
      "  [ 4  5]]\n",
      "\n",
      " [[ 6  7]\n",
      "  [ 8  9]\n",
      "  [10 11]]]\n"
     ]
    }
   ],
   "source": [
    "# 7 \n",
    "\n",
    "import numpy as np\n",
    "\n",
    "# 12 element array.\n",
    "array = np.arange(12)\n",
    "\n",
    "# Reshape change array shape  (2,3,2)\n",
    "reshaped_array = array.reshape(2, 3, 2)\n",
    "\n",
    "\n",
    "print(reshaped_array)"
   ]
  },
  {
   "cell_type": "code",
   "execution_count": 7,
   "metadata": {},
   "outputs": [
    {
     "name": "stdout",
     "output_type": "stream",
     "text": [
      "[ 0.  4.  8. 12. 16. 20.]\n"
     ]
    }
   ],
   "source": [
    "# 8 . linespace\n",
    "\n",
    "import numpy as np\n",
    "\n",
    "# Create  array with 6 linearly spaced values between 0 and 20\n",
    "array = np.linspace(0, 20, 6)\n",
    "\n",
    "\n",
    "print(array)\n",
    "\n",
    "\n"
   ]
  },
  {
   "cell_type": "code",
   "execution_count": 9,
   "metadata": {},
   "outputs": [
    {
     "name": "stdout",
     "output_type": "stream",
     "text": [
      "[ 0.  4.  8. 12. 16. 20.]\n",
      "[ 0.  4.  8. 12. 16. 20.]\n"
     ]
    }
   ],
   "source": [
    "# 9 Deep Copy\n",
    "\n",
    "import numpy as np\n",
    "\n",
    "# Create an array with 6 linearly spaced values between 0 and 20\n",
    "array = np.linspace(0, 20, 6)\n",
    "\n",
    "\n",
    "deep_copy = np.copy(array)\n",
    "\n",
    "\n",
    "print(array)\n",
    "\n",
    "print(deep_copy)\n",
    "\n",
    "\n",
    "\n"
   ]
  },
  {
   "cell_type": "code",
   "execution_count": 8,
   "metadata": {},
   "outputs": [
    {
     "name": "stdout",
     "output_type": "stream",
     "text": [
      "[[0.568  0.4189 0.71   0.7881]\n",
      " [0.08   0.059  0.1    0.111 ]\n",
      " [0.192  0.1416 0.24   0.2664]\n",
      " [0.24   0.177  0.3    0.333 ]]\n"
     ]
    }
   ],
   "source": [
    "# 10.\n",
    "\n",
    "# Import the NumPy library\n",
    "import numpy as np\n",
    "\n",
    "# Define 1-D arrays\n",
    "array1 = np.array([0.71, 0.1, 0.24, 0.3])\n",
    "array2 = np.array([0.8, 0.59, 1.0, 1.11])\n",
    "\n",
    "# Increase dimension of array1 to 2-D and broadcast the multiplication\n",
    "result = array1[:, np.newaxis] * array2\n",
    "\n",
    "\n",
    "print(result)\n",
    "\n"
   ]
  },
  {
   "cell_type": "code",
   "execution_count": 17,
   "metadata": {},
   "outputs": [
    {
     "name": "stdout",
     "output_type": "stream",
     "text": [
      "[[25 16]\n",
      " [11  2]\n",
      " [13  4]\n",
      " [ 7 81]\n",
      " [ 5  6]\n",
      " [11 12]]\n"
     ]
    }
   ],
   "source": [
    "# 11 \n",
    "\n",
    "import numpy as np\n",
    "\n",
    "# Define 2-D arrays\n",
    "array1 = np.array([[25, 16]])\n",
    "array2 = np.array([[11, 2], [13, 4]])\n",
    "array3 = np.array([[7, 81], [5, 6], [11, 12]])\n",
    "\n",
    "# Concatenate three arrays\n",
    "newArray = np.concatenate((array1, array2, array3), axis=0)\n",
    "\n",
    "print(newArray)\n",
    "\n"
   ]
  },
  {
   "cell_type": "code",
   "execution_count": 18,
   "metadata": {},
   "outputs": [
    {
     "name": "stdout",
     "output_type": "stream",
     "text": [
      "[[16 25]\n",
      " [ 2 11]\n",
      " [ 4 13]\n",
      " [ 7 81]\n",
      " [ 5  6]\n",
      " [11 12]]\n"
     ]
    }
   ],
   "source": [
    "# 12\n",
    "\n",
    "\n",
    "import numpy as np\n",
    "\n",
    "# Define 2-D arrays\n",
    "array1 = np.array([[25, 16]])\n",
    "array2 = np.array([[11, 2], [13, 4]])\n",
    "array3 = np.array([[7, 81], [5, 6], [11, 12]])\n",
    "\n",
    "# Concatenate three arrays\n",
    "newArray = np.concatenate((array1, array2, array3), axis=0)\n",
    "\n",
    "# Sort newArray row-wise\n",
    "sortedArray = np.sort(newArray, axis=1)\n",
    "\n",
    "# Print the sorted array\n",
    "print(sortedArray)\n",
    "\n"
   ]
  },
  {
   "cell_type": "code",
   "execution_count": 22,
   "metadata": {},
   "outputs": [
    {
     "ename": "ValueError",
     "evalue": "cannot reshape array of size 12 into shape (2,3)",
     "output_type": "error",
     "traceback": [
      "\u001b[1;31m---------------------------------------------------------------------------\u001b[0m",
      "\u001b[1;31mValueError\u001b[0m                                Traceback (most recent call last)",
      "Cell \u001b[1;32mIn[22], line 17\u001b[0m\n\u001b[0;32m     14\u001b[0m sortedArray \u001b[39m=\u001b[39m np\u001b[39m.\u001b[39msort(newArray, axis\u001b[39m=\u001b[39m\u001b[39m1\u001b[39m)\n\u001b[0;32m     16\u001b[0m \u001b[39m# Reshape sortedArray into reshapedArray\u001b[39;00m\n\u001b[1;32m---> 17\u001b[0m reshapedArray \u001b[39m=\u001b[39m sortedArray\u001b[39m.\u001b[39;49mreshape(\u001b[39m2\u001b[39;49m,\u001b[39m3\u001b[39;49m)\n\u001b[0;32m     20\u001b[0m \u001b[39mprint\u001b[39m(reshapedArray)\n",
      "\u001b[1;31mValueError\u001b[0m: cannot reshape array of size 12 into shape (2,3)"
     ]
    }
   ],
   "source": [
    "# 13\n",
    "\n",
    "import numpy as np\n",
    "\n",
    "# Define  2-D arrays\n",
    "array1 = np.array([[25, 16]])\n",
    "array2 = np.array([[11, 2], [13, 4]])\n",
    "array3 = np.array([[7, 81], [5, 6], [11, 12]])\n",
    "\n",
    "# Concatenate three arrays\n",
    "newArray = np.concatenate((array1, array2, array3), axis=0)\n",
    "\n",
    "# Sort newArray row-wise\n",
    "sortedArray = np.sort(newArray, axis=1)\n",
    "\n",
    "# Reshape sortedArray to reshapedArray\n",
    "reshapedArray = sortedArray.reshape(4,3)\n",
    "\n",
    "\n",
    "print(reshapedArray)\n",
    "\n"
   ]
  },
  {
   "cell_type": "code",
   "execution_count": 23,
   "metadata": {},
   "outputs": [
    {
     "name": "stdout",
     "output_type": "stream",
     "text": [
      "Array A: [16 25  2]\n",
      "Array B: [11  4 13]\n",
      "Array C: [ 7 81  5]\n",
      "Array D: [ 6 11 12]\n"
     ]
    }
   ],
   "source": [
    "# 14\n",
    "\n",
    "\n",
    "import numpy as np\n",
    "\n",
    "# Define three 2-D arrays\n",
    "array1 = np.array([[25, 16]])\n",
    "array2 = np.array([[11, 2], [13, 4]])\n",
    "array3 = np.array([[7, 81], [5, 6], [11, 12]])\n",
    "\n",
    "# Concatenate three arrays\n",
    "newArray = np.concatenate((array1, array2, array3), axis=0)\n",
    "\n",
    "# Sort newArray row-wise\n",
    "sortedArray = np.sort(newArray, axis=1)\n",
    "\n",
    "# Reshape sortedArray into a new array called reshapedArray with shape (4, 3)\n",
    "reshapedArray = sortedArray.reshape(4, 3)\n",
    "\n",
    "# Unpack the arrays in reshapedArray into four variables\n",
    "arrayA, arrayB, arrayC, arrayD = reshapedArray\n",
    "\n",
    "\n",
    "print(\"Array A:\", arrayA)\n",
    "print(\"Array B:\", arrayB)\n",
    "print(\"Array C:\", arrayC)\n",
    "print(\"Array D:\", arrayD)\n",
    "\n",
    "\n",
    "\n"
   ]
  },
  {
   "cell_type": "code",
   "execution_count": 24,
   "metadata": {},
   "outputs": [
    {
     "name": "stdout",
     "output_type": "stream",
     "text": [
      "[ 0  1  2  3  4  5  6  7 10 11 12 13 14 15 16 17 20 21 22 23 24 25 26 27]\n"
     ]
    }
   ],
   "source": [
    "# 15\n",
    "\n",
    "import numpy as np\n",
    "\n",
    "# Define three 1-D arrays\n",
    "one = np.array([10, 11, 12, 13, 14, 15, 16, 17])\n",
    "two = np.array([20, 21, 22, 23, 24, 25, 26, 27])\n",
    "three = np.array([0, 1, 2, 3, 4, 5, 6, 7])\n",
    "\n",
    "# Concatenate three arrays into one\n",
    "comboArray = np.concatenate((one, two, three))\n",
    "\n",
    "# Sort combined array\n",
    "comboArray = np.sort(comboArray)\n",
    "\n",
    "\n",
    "print(comboArray)\n",
    "\n",
    "\n"
   ]
  },
  {
   "cell_type": "code",
   "execution_count": 25,
   "metadata": {},
   "outputs": [
    {
     "name": "stdout",
     "output_type": "stream",
     "text": [
      "Section 1: 1\n",
      "Section 2: [ 2  3  4  5  6  7 10 11 12 13 14 15 16 17 20 21 22 23 24 25 26 27]\n",
      "Section 3: [ 3  4  5  6  7 10 11 12 13 14 15]\n",
      "Section 4: [22 23 24 25 26 27]\n",
      "Section 5: [ 0  1  2  3  4  5  6  7 10]\n",
      "Section 6: [23 25 27]\n",
      "Section 7: [27 22 15 10  3]\n"
     ]
    }
   ],
   "source": [
    "# 16\n",
    "\n",
    "# Import the NumPy library\n",
    "import numpy as np\n",
    "\n",
    "# Define three 1-D arrays\n",
    "one = np.array([10, 11, 12, 13, 14, 15, 16, 17])\n",
    "two = np.array([20, 21, 22, 23, 24, 25, 26, 27])\n",
    "three = np.array([0, 1, 2, 3, 4, 5, 6, 7])\n",
    "\n",
    "# Concatenate three arrays into one\n",
    "comboArray = np.concatenate((one, two, three))\n",
    "\n",
    "# Sort combined array\n",
    "comboArray = np.sort(comboArray)\n",
    "\n",
    "\n",
    "sec1 = comboArray[1]\n",
    "print(\"Section 1:\", sec1)\n",
    "\n",
    "sec2 = comboArray[2:]\n",
    "print(\"Section 2:\", sec2)\n",
    "\n",
    "sec3 = comboArray[3:14]\n",
    "print(\"Section 3:\", sec3)\n",
    "\n",
    "sec4 = comboArray[-6:]\n",
    "print(\"Section 4:\", sec4)\n",
    "\n",
    "sec5 = comboArray[:-15]\n",
    "print(\"Section 5:\", sec5)\n",
    "\n",
    "sec6 = comboArray[19::2]\n",
    "print(\"Section 6:\", sec6)\n",
    "\n",
    "sec7 = comboArray[::-5]\n",
    "print(\"Section 7:\", sec7)\n",
    "\n",
    "\n",
    "\n"
   ]
  },
  {
   "cell_type": "code",
   "execution_count": 26,
   "metadata": {},
   "outputs": [
    {
     "name": "stdout",
     "output_type": "stream",
     "text": [
      "Addition Result:\n",
      " [[[ 17.    70.    10.8 ]\n",
      "  [ 27.    80.3   20.71]]\n",
      "\n",
      " [[ 37.    90.02  30.8 ]\n",
      "  [ 47.   101.    41.  ]]\n",
      "\n",
      " [[ 57.4   94.    50.7 ]\n",
      "  [ 32.    85.5   36.2 ]]]\n",
      "\n",
      "Division Result:\n",
      " [[[0.         0.         0.00934579]\n",
      "  [0.58823529 0.14714286 0.93551402]]\n",
      "\n",
      " [[1.17647059 0.286      1.87850467]\n",
      "  [1.76470588 0.44285714 2.8317757 ]]\n",
      "\n",
      " [[2.37647059 0.34285714 3.73831776]\n",
      "  [0.88235294 0.22142857 2.38317757]]]\n"
     ]
    }
   ],
   "source": [
    "# 17\n",
    "\n",
    "\n",
    "import numpy as np\n",
    "\n",
    "# Define two arrays\n",
    "array1 = np.array([[[ 0.0,  0.0,  0.10], [10.0, 10.30, 10.01]],\n",
    "                   [[20.0, 20.02, 20.10], [30.0, 31.0, 30.30]],\n",
    "                   [[40.40, 24.0, 40.0], [15.0, 15.5, 25.5]]])\n",
    "\n",
    "array2 = np.array([[17.0, 70.0, 10.7]])\n",
    "\n",
    "# Perform addition operation\n",
    "addition_result = array1 + array2\n",
    "print(\"Addition Result:\\n\", addition_result)\n",
    "\n",
    "# Perform  division operation\n",
    "division_result = array1 / array2\n",
    "print(\"\\nDivision Result:\\n\", division_result)"
   ]
  },
  {
   "cell_type": "code",
   "execution_count": null,
   "metadata": {},
   "outputs": [],
   "source": [
    "# 18\n",
    "# Use the NumPy Arithmetic functions to do the subtraction of the above two arrays in pont #7. \n",
    "# Are we talking about point #7 in the arrays or number 17???? Am making the assumption that we are talking about number  17.\n",
    "\n",
    "\n",
    "import numpy as np\n",
    "\n",
    "# Define 2 arays\n",
    "array1 = np.array([[[ 0.0,  0.0,  0.10], [10.0, 10.30, 10.01]],\n",
    "                   [[20.0, 20.02, 20.10], [30.0, 31.0, 30.30]],\n",
    "                   [[40.40, 24.0, 40.0], [15.0, 15.5, 25.5]]])\n",
    "\n",
    "array2 = np.array([[17.0, 70.0, 10.7]])\n",
    "\n",
    "# NumPy's subtract function  subtract array2 from array1\n",
    "subtraction_result = np.subtract(array1, array2)\n",
    "\n",
    "print(subtraction_result)\n",
    "\n",
    "\n",
    "\n"
   ]
  },
  {
   "cell_type": "code",
   "execution_count": 27,
   "metadata": {},
   "outputs": [
    {
     "name": "stdout",
     "output_type": "stream",
     "text": [
      "Elements in the array divisible by 3: [ 0.  0. 30. 24. 15.]\n"
     ]
    }
   ],
   "source": [
    "# 19\n",
    "\n",
    "# Again I'm just goiung to make the assumption we are talking about number 17 and not point 7.\n",
    "# 19. Using modulo find all elements that are divisible by 3 from the multi-dimensional array under point #7 above.\n",
    "\n",
    "\n",
    "\n",
    "# Define the array\n",
    "array1 = np.array([[[ 0.0,  0.0,  0.10], [10.0, 10.30, 10.01]],\n",
    "                   [[20.0, 20.02, 20.10], [30.0, 31.0, 30.30]],\n",
    "                   [[40.40, 24.0, 40.0], [15.0, 15.5, 25.5]]])\n",
    "\n",
    "# Modulus\n",
    "modulus = np.mod(array1, 3)\n",
    "\n",
    "# Divisible \n",
    "divisible_by_3 = np.where(modulus == 0)\n",
    "\n",
    "print(\"Elements in the array divisible by 3:\", array1[divisible_by_3])"
   ]
  },
  {
   "cell_type": "code",
   "execution_count": 28,
   "metadata": {},
   "outputs": [
    {
     "name": "stdout",
     "output_type": "stream",
     "text": [
      "Elements in the array divisible by 3: [ 0.  0. 30. 24. 15.]\n"
     ]
    }
   ],
   "source": [
    "# 20 \n",
    "\n",
    "import numpy as np\n",
    "\n",
    "# Define array\n",
    "array1 = np.array([[[ 0.0,  0.0,  0.10], [10.0, 10.30, 10.01]],\n",
    "                   [[20.0, 20.02, 20.10], [30.0, 31.0, 30.30]],\n",
    "                   [[40.40, 24.0, 40.0], [15.0, 15.5, 25.5]]]) \n",
    "\n",
    "# Mod function  modulus each element divided by 3\n",
    "modulus = np.mod(array1, 3)\n",
    "\n",
    "\n",
    "divisible_by_3 = np.where(modulus == 0)\n",
    "\n",
    "\n",
    "print(\"Elements in the array divisible by 3:\", array1[divisible_by_3])"
   ]
  },
  {
   "cell_type": "code",
   "execution_count": 29,
   "metadata": {},
   "outputs": [
    {
     "name": "stdout",
     "output_type": "stream",
     "text": [
      "      Name  Height Qualification  address  Age        Pets           sport\n",
      "0      Jai     5.1           Msc    Delhi   21         Dog           Darts\n",
      "1  janusha     6.2            MA     Doha   23       Bunny      Basketball\n",
      "2   Gaurav     5.1           Msc  Chennai   24  Chinchilla  PaddleBoarding\n",
      "3     Anuj     5.2           Msc   Dakhar   21      Parrot         Cricket\n"
     ]
    }
   ],
   "source": [
    "# 21\n",
    "\n",
    "import pandas as pd\n",
    "\n",
    "\n",
    "data = {\n",
    "    'Name': ['Jai', 'janusha', 'Gaurav', 'Anuj'],\n",
    "    'Height': [5.1, 6.2, 5.1, 5.2],\n",
    "    'Qualification': ['Msc', 'MA', 'Msc', 'Msc'],\n",
    "    'address': ['Delhi', 'Doha', 'Chennai', 'Dakhar'],\n",
    "    'Age': [21, 23, 24, 21],\n",
    "    'Pets': ['Dog', 'Bunny', 'Chinchilla', 'Parrot'],\n",
    "    'sport': ['Darts', 'Basketball', 'PaddleBoarding', 'Cricket']\n",
    "}\n",
    "\n",
    "# Create DataFrame\n",
    "studentData = pd.DataFrame(data)\n",
    "\n",
    "print(studentData)\n",
    "\n",
    "\n"
   ]
  },
  {
   "cell_type": "code",
   "execution_count": 30,
   "metadata": {},
   "outputs": [
    {
     "name": "stdout",
     "output_type": "stream",
     "text": [
      "      Name  Height Qualification  address  Age        Pets           sport   \n",
      "0      Jai     5.1           Msc    Delhi   21         Dog           Darts  \\\n",
      "1  janusha     6.2            MA     Doha   23       Bunny      Basketball   \n",
      "2   Gaurav     5.1           Msc  Chennai   24  Chinchilla  PaddleBoarding   \n",
      "3     Anuj     5.2           Msc   Dakhar   21      Parrot         Cricket   \n",
      "\n",
      "       Desserts  \n",
      "0     ice cream  \n",
      "1  Cashew Fudge  \n",
      "2       waffels  \n",
      "3  Carrot Halwa  \n"
     ]
    }
   ],
   "source": [
    "# 22\n",
    "\n",
    "# Define the desserts\n",
    "desserts = [\"ice cream\", \"Cashew Fudge\", \"waffels\", \"Carrot Halwa\"]\n",
    "\n",
    "# Add the new column to the DataFrame\n",
    "studentData['Desserts'] = desserts\n",
    "\n",
    "# Print the updated DataFrame\n",
    "print(studentData)"
   ]
  },
  {
   "cell_type": "code",
   "execution_count": 54,
   "metadata": {},
   "outputs": [
    {
     "name": "stdout",
     "output_type": "stream",
     "text": [
      "      Name  Height Qualification  address  Age        Pets           sport   \n",
      "3     Anuj     5.2           Msc   Dakhar   21      Parrot         Cricket  \\\n",
      "2   Gaurav     5.1           Msc  Chennai   24  Chinchilla  PaddleBoarding   \n",
      "0      Jai     5.1           Msc    Delhi   21         Dog           Darts   \n",
      "1  janusha     6.2            MA     Doha   23       Bunny      Basketball   \n",
      "\n",
      "       Desserts  \n",
      "3  Carrot Halwa  \n",
      "2       waffels  \n",
      "0     ice cream  \n",
      "1  Cashew Fudge  \n"
     ]
    }
   ],
   "source": [
    "# 23\n",
    "\n",
    "# Sort  DataFrame\n",
    "studentData_sorted = studentData.sort_values(by=['Name', 'address'])\n",
    "\n",
    "\n",
    "print(studentData_sorted)\n",
    "\n"
   ]
  },
  {
   "cell_type": "code",
   "execution_count": 55,
   "metadata": {},
   "outputs": [],
   "source": [
    "# 24 \n",
    "# Save the DataFrame as a .CSV file\n",
    "studentData.to_csv('studentData.csv', index=False)\n"
   ]
  },
  {
   "cell_type": "code",
   "execution_count": 60,
   "metadata": {},
   "outputs": [
    {
     "name": "stdout",
     "output_type": "stream",
     "text": [
      "  Vegetable   Color\n",
      "0    Carrot  Orange\n",
      "1  Broccoli   Green\n",
      "2   Spinach   Green\n",
      "3    Potato   Brown\n",
      "4    Tomato     Red\n"
     ]
    }
   ],
   "source": [
    "# 25(A)\n",
    "\n",
    "import pandas as pd\n",
    "\n",
    "Data = pd.DataFrame({\n",
    "    'Vegetable': ['Carrot', 'Broccoli', 'Spinach', 'Potato', 'Tomato'],\n",
    "    'Color': ['Orange', 'Green', 'Green', 'Brown', 'Red']\n",
    "    \n",
    "})\n",
    "\n",
    "print(Data)\n",
    "\n",
    "Data.to_csv('vegData.csv', index=False)\n",
    "\n"
   ]
  },
  {
   "cell_type": "code",
   "execution_count": 61,
   "metadata": {},
   "outputs": [],
   "source": [
    "# 25(B)\n",
    "\n",
    "\n",
    "vegData = pd.read_csv('vegData.csv')\n",
    "\n",
    "\n",
    "vegData['Calories (kcal)'] = [41, 55, 23, 130, 18]\n",
    "\n",
    "\n",
    "vegData.to_csv('vegData_modified.csv', index=False)\n"
   ]
  }
 ],
 "metadata": {
  "kernelspec": {
   "display_name": "Python 3",
   "language": "python",
   "name": "python3"
  },
  "language_info": {
   "codemirror_mode": {
    "name": "ipython",
    "version": 3
   },
   "file_extension": ".py",
   "mimetype": "text/x-python",
   "name": "python",
   "nbconvert_exporter": "python",
   "pygments_lexer": "ipython3",
   "version": "3.11.3"
  },
  "orig_nbformat": 4
 },
 "nbformat": 4,
 "nbformat_minor": 2
}

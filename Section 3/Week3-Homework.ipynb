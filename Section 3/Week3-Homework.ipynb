{
 "cells": [
  {
   "attachments": {},
   "cell_type": "markdown",
   "metadata": {},
   "source": [
    "1. A algorithm is a set of instructions used to solve a problem or accomplish a task.\n",
    "2. Variable names can't start with numbers or special chatcters. They can start with an underscore.\n",
    "3. A Semantic error happens when the program works and dosen't rasie an exception. But, the result is different that expected.\n",
    "4. The first rule od coding/debugging is to keep it simple. Code should be easy to understand.\n",
    "5. Five Python reserved words are :\n",
    "   - if\n",
    "   - else\n",
    "   - for \n",
    "   - while\n",
    "   - and"
   ]
  },
  {
   "cell_type": "code",
   "execution_count": 26,
   "metadata": {},
   "outputs": [
    {
     "name": "stdout",
     "output_type": "stream",
     "text": [
      "7\n",
      "t\n"
     ]
    }
   ],
   "source": [
    "# 6 and 7\n",
    "\"\"\"\n",
    "Name: Eric\n",
    "Favorite Food : Pizza\n",
    "Dream Job : Captian on a fire boat in Seattle.\n",
    "\n",
    "\"\"\"\n",
    "a = 45  # int\n",
    "b = True # bool\n",
    "c =  3.14 # float\n",
    "d = \"Mustang\" # string\n",
    "e = [1, 2, 3] # List\n",
    "\n",
    "# Length of the string.\n",
    "print(len(d))\n",
    "\n",
    "# Length of 4th charcter in var d.\n",
    "print(d[3])\n",
    "\n",
    "\n"
   ]
  },
  {
   "cell_type": "code",
   "execution_count": 41,
   "metadata": {},
   "outputs": [
    {
     "name": "stdout",
     "output_type": "stream",
     "text": [
      "ing Data Analytics \n",
      "Learning Data Analytics and Python is great!\n",
      "True\n",
      "Hi my name is John, I am 180cm and 25 years old today.\n",
      "25.0\n",
      "['hello', 'first', 'three', False, 3.35, [1, 2, 3], 'second']\n",
      "7\n",
      "['first', 'three']\n",
      "['hello', 'first', 'three', False, 3.35, [1, 2, 3], 'second', 'first', 'three']\n",
      "[1, 2, 3, 4, 5]\n",
      "[1, 2, 3, 4, 5]\n",
      "['first', 'three', 1, 2, 3, 4, 5]\n"
     ]
    }
   ],
   "source": [
    "# 8,9,10\n",
    "\n",
    "# Savvy String\n",
    "savvy = \"Learning Data Analytics and Python is Awesome!\"\n",
    "\n",
    "# Retrun character range from savvy variable\n",
    "print(savvy[savvy.find(\"ing\"):savvy.find(\"and\")])\n",
    "\n",
    "# Replace \"Awesome\" with \"great\" in the string\n",
    "savvy = savvy.replace(\"Awesome\", \"great\")\n",
    "print(savvy)\n",
    "\n",
    "# Does savvy variable contain \"Python\"\n",
    "print(\"Python\" in savvy)\n",
    "\n",
    "# 3 variables using multi-variable\n",
    "name, age, length = \"John\", 25, 180\n",
    "\n",
    "# New string with variables in {}\n",
    "minibio = f\"Hi my name is {name}, I am {length}cm and {age} years old today.\"\n",
    "\n",
    "# Print string\n",
    "print(minibio)\n",
    "\n",
    "# Cast age var as float\n",
    "print(float(age))\n",
    "\n",
    "\n",
    "# Mixed data type list\n",
    "\n",
    "list = [\"hello\", 1, False, 3.35, [1, 2, 3]]\n",
    "\n",
    "# Replace\n",
    "\n",
    "list[1] = \"first\"\n",
    "\n",
    "# Append \n",
    "\n",
    "list.append(\"second\")\n",
    "list.insert(2, \"three\")\n",
    "print(list)\n",
    "\n",
    "# Length\n",
    "\n",
    "print(len(list))\n",
    "\n",
    "# Slice\n",
    "\n",
    "list2 = list[1:3]\n",
    "print(list2)\n",
    "\n",
    "# Extend \n",
    "\n",
    "list.extend(list2)\n",
    "print(list)\n",
    "\n",
    "# New list \"simList\"\n",
    "simList = [1, 2, 3, 4, 5]\n",
    "\n",
    "# sort and print\n",
    "simList.sort()\n",
    "print(simList)\n",
    "\n",
    "# Copy and print\n",
    "simList2 = simList.copy()\n",
    "print(simList2)\n",
    "\n",
    "# Add the 2nd and 3rd \n",
    "List4 = list2 + simList2\n",
    "print(List4)\n"
   ]
  },
  {
   "cell_type": "code",
   "execution_count": 1,
   "metadata": {},
   "outputs": [
    {
     "name": "stdout",
     "output_type": "stream",
     "text": [
      "(1, 2, 3, 4, 5, 1, 2, 3, 4, 5, 1, 2, 3, 4, 5)\n",
      "2\n",
      "[1, 1, 1, 2, 2, 2, 3, 3, 3, 4, 4, 4, 5, 5, 5]\n",
      "4 5 1 2\n",
      "(50,)\n",
      "(1, 2, 3, 4, 5, 1, 2, 3, 4, 5, 1, 2, 3, 4, 5, 4, 5, 1, 2)\n"
     ]
    }
   ],
   "source": [
    "# Tuples 11\n",
    "\n",
    "# Create Tuple\n",
    "Tuple = (1, 2, 3, 4, 5)\n",
    "\n",
    "# Multiply your tuple by 3 and save it to a new 2nd tuple\n",
    "\n",
    "Tuple2 = Tuple * 3\n",
    "print(Tuple2)\n",
    "# Access and print the 12th element from the 2nd tuple\n",
    "\n",
    "print(Tuple2[11])\n",
    "\n",
    "# Sort the 2nd tuple and print it\n",
    "print(sorted(Tuple2))\n",
    "\n",
    "# Copy 4 specific elements from your 2nd tuple to a new 3nd tuple\n",
    "Tuple3 = Tuple2[3:7]\n",
    "\n",
    "# Unpack the 3rd tuple into 4 variables and print these variables\n",
    "var1, var2, var3, var4 = Tuple3\n",
    "print(var1, var2, var3, var4)\n",
    "\n",
    "# Create a 4th tuple with single item 50 and print this tuple\n",
    "Tuple4 = (50,)\n",
    "print(Tuple4)\n",
    "\n",
    "# Add the 2nd and 3rd tuples together into a 5th tuple and print the tuple\n",
    "Tuple5 = Tuple2 + Tuple3\n",
    "print(Tuple5)"
   ]
  },
  {
   "cell_type": "code",
   "execution_count": 7,
   "metadata": {},
   "outputs": [
    {
     "name": "stdout",
     "output_type": "stream",
     "text": [
      "{False, 1, 'five'}\n",
      "{False, 1, 'bananna', 'orange', 'five', 'strawberry'}\n",
      "{False, 1, 'bananna', 4.14, 'car', 'orange', 'five', 'gutiar', 'strawberry'}\n",
      "{True, 4.14}\n",
      "set()\n",
      "{False, 1, 'bananna', 'car', 'orange', 'five', 'gutiar', 'strawberry'}\n"
     ]
    }
   ],
   "source": [
    "#  12 Set\n",
    "\n",
    "# 3 element set\n",
    "Set = {1, \"five\", False}\n",
    "print(Set)\n",
    "\n",
    "# Addd list of fruits to set\n",
    "Set.update([\"orange\", \"strawberry\", \"bananna\"])\n",
    "print(Set)\n",
    "\n",
    "# Add a car element \n",
    "Set.add(\"car\")\n",
    "\n",
    "# Create a 2nd set with a few odd items\n",
    "Set2 = {\"gutiar\", 4.14, True}\n",
    "\n",
    "# Union\n",
    "Set3 = Set.union(Set2)\n",
    "print(Set3)\n",
    "\n",
    "# Pop \n",
    "Set2.pop()\n",
    "print(Set2)\n",
    "\n",
    "# Clear\n",
    "Set.clear()\n",
    "print(Set)\n",
    "\n",
    "# Discard \n",
    "Set3.discard(\"hello\")\n",
    "Set3.remove(4.14)\n",
    "\n",
    "# Print \n",
    "print(Set3)\n",
    "\n"
   ]
  },
  {
   "cell_type": "code",
   "execution_count": 8,
   "metadata": {},
   "outputs": [
    {
     "name": "stdout",
     "output_type": "stream",
     "text": [
      "Emily\n",
      "['name', 'age', 'isWorking', 'height', 'hobbies', 'color', 'scores']\n",
      "['Tommie', 25, False, 165, ['reading', 'traveling', 'painting'], 'green', (85, 92, 78)]\n",
      "{'name': 'Tommie', 'age': 25, 'isWorking': False, 'height': 165, 'hobbies': ['reading', 'traveling', 'painting'], 'scores': (85, 92, 78)}\n",
      "{}\n"
     ]
    }
   ],
   "source": [
    "# Dictionary\n",
    "# Create a dictionary\n",
    "\n",
    "Dict = {\"name\": \"Emily\", \"age\": 25, \"isWorking\": False, \"height\": 165, \"hobbies\": [\"reading\", \"traveling\", \"painting\"]}\n",
    "\n",
    "# Print out 1 value\n",
    "print(Dict[\"name\"])\n",
    "\n",
    "# Replace value\n",
    "Dict[\"name\"] = \"Tommie\"\n",
    "\n",
    "# Add color\n",
    "Dict[\"color\"] = \"green\"\n",
    "\n",
    "# Add a tuple\n",
    "Dict[\"scores\"] = (85, 92, 78)\n",
    "\n",
    "# List keys\n",
    "print(list(Dict.keys()))\n",
    "\n",
    "# Print values\n",
    "print(list(Dict.values()))\n",
    "\n",
    "# Copy 1st dict to 2nd dict\n",
    "Dict2 = Dict.copy()\n",
    "\n",
    "# Pop an item from the 2nd dict\n",
    "Dict2.pop(\"color\")\n",
    "print(Dict2)\n",
    "\n",
    "# Remove elements from the 2nd dict and print\n",
    "Dict2.clear()\n",
    "print(Dict2)\n"
   ]
  }
 ],
 "metadata": {
  "kernelspec": {
   "display_name": "Python 3",
   "language": "python",
   "name": "python3"
  },
  "language_info": {
   "codemirror_mode": {
    "name": "ipython",
    "version": 3
   },
   "file_extension": ".py",
   "mimetype": "text/x-python",
   "name": "python",
   "nbconvert_exporter": "python",
   "pygments_lexer": "ipython3",
   "version": "3.11.3"
  },
  "orig_nbformat": 4
 },
 "nbformat": 4,
 "nbformat_minor": 2
}

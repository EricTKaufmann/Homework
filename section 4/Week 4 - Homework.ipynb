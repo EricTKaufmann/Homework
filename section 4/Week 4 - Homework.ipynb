{
 "cells": [
  {
   "cell_type": "code",
   "execution_count": 2,
   "metadata": {},
   "outputs": [
    {
     "name": "stdout",
     "output_type": "stream",
     "text": [
      "Renting a car is very expensive\n",
      "Renting a car is very expensive\n"
     ]
    }
   ],
   "source": [
    "## Flow Control Methods\n",
    "\n",
    "## 1.\n",
    "## Input age\n",
    "age = int(input(\"Enter your age: \"))\n",
    "\n",
    "if age >= 25:\n",
    "    print(\"Renting a car is more affordable\")\n",
    "elif age < 25:\n",
    "    print(\"Renting a car is very expensive\")\n",
    "\n",
    "\n",
    "\n",
    "\n",
    "\n"
   ]
  },
  {
   "cell_type": "code",
   "execution_count": 4,
   "metadata": {},
   "outputs": [
    {
     "name": "stdout",
     "output_type": "stream",
     "text": [
      "Renting a car is very expensive\n"
     ]
    }
   ],
   "source": [
    "## 2. Flow Control Methods\n",
    "\n",
    "## Input age\n",
    "age = int(input(\"Enter your age: \"))  \n",
    "\n",
    "if age >= 25:\n",
    "    print(\"Renting a car is more affordable\")\n",
    "elif age >= 18 and age < 25:\n",
    "    print(\"Renting a car is very expensive\")\n",
    "else:\n",
    "    print(\"You cannot legally rent a car\")"
   ]
  },
  {
   "cell_type": "code",
   "execution_count": 5,
   "metadata": {},
   "outputs": [
    {
     "name": "stdout",
     "output_type": "stream",
     "text": [
      "Total characters: 43\n",
      "Vowels in the string: ['e', 'u', 'i', 'o', 'o', 'u', 'o', 'e', 'e', 'a', 'o']\n"
     ]
    }
   ],
   "source": [
    "## 3. Flow Control Methods\n",
    "\n",
    "s = \"The quick brown fox jumps over the lazy dog\"\n",
    "vowels = \"aeiouAEIOU\"\n",
    "\n",
    "character_count = 0\n",
    "vowel_list = []\n",
    "\n",
    "for char in s:\n",
    "    ## count all characters\n",
    "    character_count += 1\n",
    "\n",
    "    ## check for vowels\n",
    "    if char in vowels:\n",
    "        vowel_list.append(char)\n",
    "\n",
    "print(f\"Total characters: {character_count}\")\n",
    "print(f\"Vowels in the string: {vowel_list}\")\n"
   ]
  },
  {
   "cell_type": "code",
   "execution_count": 6,
   "metadata": {},
   "outputs": [
    {
     "name": "stdout",
     "output_type": "stream",
     "text": [
      "trousers in fuchsia\n",
      "trousers in burnt sienna\n",
      "trousers in cerise\n",
      "trousers in aqua\n",
      "trousers in Dark Sapphire\n",
      "trousers in gunmetal blue\n",
      "trousers in maple\n",
      "trousers in auburn\n",
      "blouse in fuchsia\n",
      "blouse in burnt sienna\n",
      "blouse in cerise\n",
      "blouse in aqua\n",
      "blouse in Dark Sapphire\n",
      "blouse in gunmetal blue\n",
      "blouse in maple\n",
      "blouse in auburn\n",
      "bandana in fuchsia\n",
      "bandana in burnt sienna\n",
      "bandana in cerise\n",
      "bandana in aqua\n",
      "bandana in Dark Sapphire\n",
      "bandana in gunmetal blue\n",
      "bandana in maple\n",
      "bandana in auburn\n",
      "cumber band in fuchsia\n",
      "cumber band in burnt sienna\n",
      "cumber band in cerise\n",
      "cumber band in aqua\n",
      "cumber band in Dark Sapphire\n",
      "cumber band in gunmetal blue\n",
      "cumber band in maple\n",
      "cumber band in auburn\n",
      "blazer in fuchsia\n",
      "blazer in burnt sienna\n",
      "blazer in cerise\n",
      "blazer in aqua\n",
      "blazer in Dark Sapphire\n",
      "blazer in gunmetal blue\n",
      "blazer in maple\n",
      "blazer in auburn\n",
      "vest in fuchsia\n",
      "vest in burnt sienna\n",
      "vest in cerise\n",
      "vest in aqua\n",
      "vest in Dark Sapphire\n",
      "vest in gunmetal blue\n",
      "vest in maple\n",
      "vest in auburn\n",
      "french beret in fuchsia\n",
      "french beret in burnt sienna\n",
      "french beret in cerise\n",
      "french beret in aqua\n",
      "french beret in Dark Sapphire\n",
      "french beret in gunmetal blue\n",
      "french beret in maple\n",
      "french beret in auburn\n",
      "scarf in fuchsia\n",
      "scarf in burnt sienna\n",
      "scarf in cerise\n",
      "scarf in aqua\n",
      "scarf in Dark Sapphire\n",
      "scarf in gunmetal blue\n",
      "scarf in maple\n",
      "scarf in auburn\n",
      "stole in fuchsia\n",
      "stole in burnt sienna\n",
      "stole in cerise\n",
      "stole in aqua\n",
      "stole in Dark Sapphire\n",
      "stole in gunmetal blue\n",
      "stole in maple\n",
      "stole in auburn\n"
     ]
    }
   ],
   "source": [
    "## 4. Flow Control Methods\n",
    "\n",
    "couture = [\"trousers\", \"blouse\", \"bandana\", \"cumber band\", \"blazer\", \"vest\", \"french beret\", \"scarf\", \"stole\"]\n",
    "panettone = {\"cerise\", \"fuchsia\", \"aqua\", \"maple\", \"auburn\", \"burnt sienna\", \"gunmetal blue\", \"Dark Sapphire\"}\n",
    "\n",
    "for clothing in couture:\n",
    "    for color in panettone:\n",
    "        print(clothing, \"in\", color)"
   ]
  },
  {
   "cell_type": "code",
   "execution_count": 7,
   "metadata": {},
   "outputs": [
    {
     "name": "stdout",
     "output_type": "stream",
     "text": [
      "The sum of all the numbers from 1 to 100 is 5050\n"
     ]
    }
   ],
   "source": [
    "## 5. Flow Control Methods\n",
    "\n",
    "## sum variable\n",
    "total_sum = 0\n",
    "\n",
    "## Loop 1 to 100\n",
    "for i in range(1, 101):\n",
    "    ## Add current number to total sum\n",
    "    total_sum += i\n",
    "\n",
    "print(f\"The sum of all the numbers from 1 to 100 is {total_sum}\")"
   ]
  },
  {
   "cell_type": "code",
   "execution_count": 10,
   "metadata": {},
   "outputs": [
    {
     "name": "stdout",
     "output_type": "stream",
     "text": [
      "banana\n"
     ]
    }
   ],
   "source": [
    "## 6. Flow Control Methods\n",
    "\n",
    "list = [\"apple\",\"banana\",\"cherry\"]\n",
    "print(list[1])\n"
   ]
  },
  {
   "cell_type": "code",
   "execution_count": 11,
   "metadata": {},
   "outputs": [
    {
     "name": "stdout",
     "output_type": "stream",
     "text": [
      "['kiwi', 'banana', 'cherry']\n"
     ]
    }
   ],
   "source": [
    "## 7. Flow Control Methods\n",
    "\n",
    "list = [\"apple\",\"banana\",\"cherry\"]\n",
    "list[0] = \"kiwi\"\n",
    "print(list)"
   ]
  },
  {
   "cell_type": "code",
   "execution_count": 12,
   "metadata": {},
   "outputs": [
    {
     "name": "stdout",
     "output_type": "stream",
     "text": [
      "['apple', 'banana', 'cherry', 'orange']\n"
     ]
    }
   ],
   "source": [
    "## 8. Flow Control Methods\n",
    "\n",
    "list = [\"apple\",\"banana\",\"cherry\"]\n",
    "list.append(\"orange\")\n",
    "print(list)\n"
   ]
  },
  {
   "cell_type": "code",
   "execution_count": 16,
   "metadata": {},
   "outputs": [
    {
     "name": "stdout",
     "output_type": "stream",
     "text": [
      "['apple', 'lemon', 'banana', 'cherry']\n"
     ]
    }
   ],
   "source": [
    "## 9. Flow Control Methods\n",
    " \n",
    "list = [\"apple\",\"banana\",\"cherry\"]\n",
    "list.insert(1, \"lemon\")\n",
    "print(list)\n"
   ]
  },
  {
   "cell_type": "code",
   "execution_count": 17,
   "metadata": {},
   "outputs": [
    {
     "name": "stdout",
     "output_type": "stream",
     "text": [
      "['apple', 'cherry']\n"
     ]
    }
   ],
   "source": [
    "## 10. Flow Control Methods\n",
    "\n",
    "list = [\"apple\", \"banana\", \"cherry\"]\n",
    "list.remove(\"banana\")\n",
    "print(list)\n"
   ]
  },
  {
   "cell_type": "code",
   "execution_count": 26,
   "metadata": {},
   "outputs": [
    {
     "name": "stdout",
     "output_type": "stream",
     "text": [
      "kiwi\n",
      "melon\n"
     ]
    }
   ],
   "source": [
    "## 11. Flow Control Methods\n",
    "\n",
    "list = [\"apple\", \"banana\", \"cherry\", \"orange\", \"kiwi\", \"melon\", \"mango\"]\n",
    "print(list[-3])\n",
    "print(list[-2])\n",
    "\n"
   ]
  },
  {
   "cell_type": "code",
   "execution_count": 27,
   "metadata": {},
   "outputs": [
    {
     "name": "stdout",
     "output_type": "stream",
     "text": [
      "['cherry', 'orange', 'kiwi']\n"
     ]
    }
   ],
   "source": [
    "## 12. Flow Control Methods\n",
    "\n",
    "list = [\"apple\", \"banana\", \"cherry\", \"orange\", \"kiwi\", \"melon\", \"mango\"]\n",
    "print(list[2:5])"
   ]
  },
  {
   "cell_type": "code",
   "execution_count": 28,
   "metadata": {},
   "outputs": [
    {
     "name": "stdout",
     "output_type": "stream",
     "text": [
      "7\n"
     ]
    }
   ],
   "source": [
    "## 13. Flow Control Methods\n",
    "\n",
    "list = [\"apple\", \"banana\", \"cherry\", \"orange\", \"kiwi\", \"melon\", \"mango\"]\n",
    "print(len(list))\n"
   ]
  },
  {
   "cell_type": "code",
   "execution_count": 36,
   "metadata": {},
   "outputs": [
    {
     "name": "stdout",
     "output_type": "stream",
     "text": [
      "['orange', 'melon', 'mango', 'kiwi', 'cherry', 'banana', 'apple']\n"
     ]
    }
   ],
   "source": [
    "## 14. Flow Control Methods\n",
    "\n",
    "list = [\"apple\", \"banana\", \"cherry\", \"orange\", \"kiwi\", \"melon\", \"mango\"]\n",
    "list.sort(reverse=True)\n",
    "print(list)\n"
   ]
  },
  {
   "attachments": {},
   "cell_type": "markdown",
   "metadata": {},
   "source": [
    "1. What does one need to do to use a module?\n",
    "\n",
    "  To use a module in python you use the 'import' statemnt.\n",
    "\n",
    "2. Name a Module (not the DateTime Nodule) we looked at and write a line or 2 of code as an example using this module.\n",
    "\n",
    "  We looked at the 'math' module.\n",
    "\n",
    "   import math\n",
    "   print(math.sqrt(16))\n",
    "\n",
    "   \n",
    "3. What is a benefit of using Exception handling?\n",
    "\n",
    "   It allows errors to be handled efficiently and prevent the program\n",
    "   frokm crashing. \n",
    "\n",
    "4. What are the 4 components used for Python Exception Handling?\n",
    "\n",
    "   They are: 'try','except','finally', and 'raise'.\n",
    "\n",
    "\n",
    "\n",
    "5. NumPy arrays are like what Python data type?\n",
    "\n",
    "   They are similar to lists. \n",
    "\n",
    "   \n",
    "\n",
    "6. What is one of the main benefits of using NumPy arrays.\n",
    "\n",
    "   The main benefit is they are more efficient and faster. \n",
    "\n",
    "7. What is one of the main requirements about the 'dtype' of NumPy arrays?\n",
    "\n",
    "   All elemnents in the array need to be the same type/\n",
    "\n",
    "8. Of the 10 uses of NumPy, name 2.\n",
    "\n",
    "   Two uses of NymPy are vector-vector multiplication and elemnt-wise or array comparisions.\n",
    "\n",
    "9. Name one of the other libraries we'll use with NumPy?\n",
    "\n",
    "   Pandas\n",
    "\n",
    "10. What is the shape of NumPy arrays?\n",
    "\n",
    "   The shape is the tuple of integers giving the size of the array along each dimension.\n",
    "\n",
    "11. What is a Tensor?\n",
    "\n",
    "    This is a multidemensional array.\n",
    "\n",
    "12. Name a reason why it's better using  NumPy for Data Analysis than using a Python List?\n",
    "\n",
    "     Speed and and memory optimization. There are also more computational oprerations avilable.\n",
    "\n",
    "13. When creating an \"empty\" array, where do the elements come from?\n",
    "\n",
    "    The array isn't populated with specific values. Memory is allocaetd with out setting initial values.\n",
    "\n",
    "    \n"
   ]
  },
  {
   "cell_type": "code",
   "execution_count": 37,
   "metadata": {},
   "outputs": [
    {
     "name": "stdout",
     "output_type": "stream",
     "text": [
      "May\n"
     ]
    }
   ],
   "source": [
    "## 1. DateTime\n",
    "\n",
    "from datetime import datetime\n",
    "\n",
    "## Current date and time and save it to a variable\n",
    "current_datetime = datetime.now()\n",
    "\n",
    "## Full month name\n",
    "full_month_name = current_datetime.strftime(\"%B\")\n",
    "\n",
    "print(full_month_name)\n",
    "\n",
    "\n",
    "\n"
   ]
  },
  {
   "cell_type": "code",
   "execution_count": 43,
   "metadata": {},
   "outputs": [
    {
     "name": "stdout",
     "output_type": "stream",
     "text": [
      "Hi John! Happy Monday!\n",
      "Hi John! Happy Sunday!\n",
      "Hi John! Happy Monday!\n"
     ]
    }
   ],
   "source": [
    "## 2. Simple Function \n",
    "\n",
    "def greet(first_name, day_name=\"Sunday\"):\n",
    "    print(f\"Hi {first_name}! Happy {day_name}!\")\n",
    "\n",
    "## 1 Variable \n",
    "\n",
    "\n",
    "def greet(first_name, day_name=\"Sunday\"):\n",
    "    print(f\"Hi {first_name}! Happy {day_name}!\")\n",
    "\n",
    "\n",
    "greet(\"John\", \"Monday\")\n",
    "\n",
    "\n",
    "greet(\"John\")\n",
    "\n",
    "## 2 Variables\n",
    "\n",
    "def greet(first_name, day_name=\"Sunday\"):\n",
    "    print(f\"Hi {first_name}! Happy {day_name}!\")\n",
    "\n",
    "greet(\"John\", \"Monday\")\n",
    "\n",
    "\n"
   ]
  },
  {
   "cell_type": "code",
   "execution_count": 58,
   "metadata": {},
   "outputs": [
    {
     "name": "stdout",
     "output_type": "stream",
     "text": [
      "There seems to be a syntax error.\n",
      "Syntax check finished.\n"
     ]
    }
   ],
   "source": [
    "## 3. Code Block \n",
    "\n",
    "a = 3\n",
    "b = 4\n",
    "\n",
    "try:\n",
    "    \n",
    "    eval('a === b')\n",
    "except SyntaxError:\n",
    "    \n",
    "    print(\"There seems to be a syntax error.\")\n",
    "else:\n",
    "    \n",
    "    print(\"Syntax check passed successfully.\")\n",
    "finally:\n",
    "\n",
    "    print(\"Syntax check finished.\")\n"
   ]
  }
 ],
 "metadata": {
  "kernelspec": {
   "display_name": "Python 3",
   "language": "python",
   "name": "python3"
  },
  "language_info": {
   "codemirror_mode": {
    "name": "ipython",
    "version": 3
   },
   "file_extension": ".py",
   "mimetype": "text/x-python",
   "name": "python",
   "nbconvert_exporter": "python",
   "pygments_lexer": "ipython3",
   "version": "3.11.3"
  },
  "orig_nbformat": 4
 },
 "nbformat": 4,
 "nbformat_minor": 2
}

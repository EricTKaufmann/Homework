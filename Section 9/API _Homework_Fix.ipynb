{
 "cells": [
  {
   "cell_type": "code",
   "execution_count": 1,
   "metadata": {},
   "outputs": [
    {
     "name": "stdout",
     "output_type": "stream",
     "text": [
      "In San Francisco, the temperature is 64.42°F, the humidity is 63%, and the weather is few clouds.\n"
     ]
    }
   ],
   "source": [
    "import os\n",
    "import requests\n",
    "from dotenv import load_dotenv\n",
    "import json\n",
    "\n",
    "# Load your OpenWeatherMap API key from the environment variables\n",
    "load_dotenv()\n",
    "API_KEY = os.getenv(\"API_KEY\")\n",
    "\n",
    "# Choose a specific location\n",
    "city = \"San Francisco\"\n",
    "\n",
    "# Construct the API request URL\n",
    "base_url = \"http://api.openweathermap.org/data/2.5/weather\"\n",
    "\n",
    "params = {\n",
    "    'q': city,\n",
    "    'appid': API_KEY,\n",
    "    'units': 'imperial'\n",
    "}\n",
    "\n",
    "# Make an API request and handle potential errors\n",
    "try:\n",
    "    response = requests.get(base_url, params=params)\n",
    "    response.raise_for_status()\n",
    "except requests.exceptions.HTTPError as errh:\n",
    "    print (\"HTTP Error:\",errh)\n",
    "except requests.exceptions.ConnectionError as errc:\n",
    "    print (\"Error Connecting:\",errc)\n",
    "except requests.exceptions.Timeout as errt:\n",
    "    print (\"Timeout Error:\",errt)\n",
    "except requests.exceptions.RequestException as err:\n",
    "    print (\"Something went wrong:\",err)\n",
    "    exit() # Exit the program if the request fails\n",
    "\n",
    "# Extract the relevant weather information\n",
    "data = response.json()\n",
    "\n",
    "if 'main' in data and 'temp' in data['main']:\n",
    "    temp = data['main']['temp']\n",
    "    humidity = data['main']['humidity']\n",
    "    description = data['weather'][0]['description']\n",
    "\n",
    "    # Format and display the weather information\n",
    "    print(f\"In {city}, the temperature is {temp}°F, the humidity is {humidity}%, and the weather is {description}.\")\n",
    "else:\n",
    "    print(\"Could not retrieve weather data. Please ensure your API key and city name are correct.\")\n"
   ]
  }
 ],
 "metadata": {
  "kernelspec": {
   "display_name": "Python 3",
   "language": "python",
   "name": "python3"
  },
  "language_info": {
   "codemirror_mode": {
    "name": "ipython",
    "version": 3
   },
   "file_extension": ".py",
   "mimetype": "text/x-python",
   "name": "python",
   "nbconvert_exporter": "python",
   "pygments_lexer": "ipython3",
   "version": "3.11.3"
  },
  "orig_nbformat": 4
 },
 "nbformat": 4,
 "nbformat_minor": 2
}
